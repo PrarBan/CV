{
 "cells": [
  {
   "cell_type": "code",
   "execution_count": 1,
   "metadata": {},
   "outputs": [],
   "source": [
    "%matplotlib inline\n",
    "\n",
    "import pandas as pd\n",
    "import numpy as np\n",
    "\n",
    "import matplotlib.pyplot as plt"
   ]
  },
  {
   "cell_type": "code",
   "execution_count": 2,
   "metadata": {},
   "outputs": [],
   "source": [
    "seed = 42\n",
    "rng = np.random.RandomState(seed)"
   ]
  },
  {
   "cell_type": "code",
   "execution_count": 3,
   "metadata": {},
   "outputs": [],
   "source": [
    "data = pd.read_csv('../datasets/facial_keypoint_identification/facial_keypoint_identification.csv')"
   ]
  },
  {
   "cell_type": "code",
   "execution_count": 4,
   "metadata": {},
   "outputs": [
    {
     "data": {
      "text/html": [
       "<div>\n",
       "<style scoped>\n",
       "    .dataframe tbody tr th:only-of-type {\n",
       "        vertical-align: middle;\n",
       "    }\n",
       "\n",
       "    .dataframe tbody tr th {\n",
       "        vertical-align: top;\n",
       "    }\n",
       "\n",
       "    .dataframe thead th {\n",
       "        text-align: right;\n",
       "    }\n",
       "</style>\n",
       "<table border=\"1\" class=\"dataframe\">\n",
       "  <thead>\n",
       "    <tr style=\"text-align: right;\">\n",
       "      <th></th>\n",
       "      <th>image_name</th>\n",
       "      <th>left_eye_center_x</th>\n",
       "      <th>left_eye_center_y</th>\n",
       "      <th>right_eye_center_x</th>\n",
       "      <th>right_eye_center_y</th>\n",
       "    </tr>\n",
       "  </thead>\n",
       "  <tbody>\n",
       "    <tr>\n",
       "      <th>0</th>\n",
       "      <td>0.jpg</td>\n",
       "      <td>66</td>\n",
       "      <td>39</td>\n",
       "      <td>30</td>\n",
       "      <td>36</td>\n",
       "    </tr>\n",
       "    <tr>\n",
       "      <th>1</th>\n",
       "      <td>1.jpg</td>\n",
       "      <td>64</td>\n",
       "      <td>34</td>\n",
       "      <td>29</td>\n",
       "      <td>33</td>\n",
       "    </tr>\n",
       "    <tr>\n",
       "      <th>2</th>\n",
       "      <td>2.jpg</td>\n",
       "      <td>65</td>\n",
       "      <td>34</td>\n",
       "      <td>30</td>\n",
       "      <td>34</td>\n",
       "    </tr>\n",
       "    <tr>\n",
       "      <th>3</th>\n",
       "      <td>3.jpg</td>\n",
       "      <td>65</td>\n",
       "      <td>37</td>\n",
       "      <td>32</td>\n",
       "      <td>37</td>\n",
       "    </tr>\n",
       "    <tr>\n",
       "      <th>4</th>\n",
       "      <td>4.jpg</td>\n",
       "      <td>66</td>\n",
       "      <td>39</td>\n",
       "      <td>32</td>\n",
       "      <td>38</td>\n",
       "    </tr>\n",
       "  </tbody>\n",
       "</table>\n",
       "</div>"
      ],
      "text/plain": [
       "  image_name  left_eye_center_x  left_eye_center_y  right_eye_center_x  \\\n",
       "0      0.jpg                 66                 39                  30   \n",
       "1      1.jpg                 64                 34                  29   \n",
       "2      2.jpg                 65                 34                  30   \n",
       "3      3.jpg                 65                 37                  32   \n",
       "4      4.jpg                 66                 39                  32   \n",
       "\n",
       "   right_eye_center_y  \n",
       "0                  36  \n",
       "1                  33  \n",
       "2                  34  \n",
       "3                  37  \n",
       "4                  38  "
      ]
     },
     "execution_count": 4,
     "metadata": {},
     "output_type": "execute_result"
    }
   ],
   "source": [
    "data.head()"
   ]
  },
  {
   "cell_type": "code",
   "execution_count": 11,
   "metadata": {},
   "outputs": [
    {
     "name": "stdout",
     "output_type": "stream",
     "text": [
      "Shape of original image is (96, 96, 3)\n"
     ]
    },
    {
     "data": {
      "image/png": "[encoded data removed]",
      "text/plain": [
       "<Figure size 432x288 with 1 Axes>"
      ]
     },
     "metadata": {},
     "output_type": "display_data"
    }
   ],
   "source": [
    "# get random index of data\n",
    "idx = rng.choice(data.index)\n",
    "\n",
    "# read image\n",
    "img = plt.imread('../datasets/facial_keypoint_identification/images/' + data.image_name.iloc[idx])\n",
    "\n",
    "# create an empty figure\n",
    "fig = plt.figure()\n",
    "\n",
    "# plot image\n",
    "plt.imshow(img)\n",
    "\n",
    "# plot target\n",
    "plt.scatter(data.left_eye_center_x.iloc[idx], data.left_eye_center_y.iloc[idx], marker='x', c='r')\n",
    "plt.scatter(data.right_eye_center_x.iloc[idx], data.right_eye_center_y.iloc[idx], marker='x', c='r')\n",
    "\n",
    "# print image shape\n",
    "print('Shape of original image is', img.shape)\n",
    "\n",
    "# show figure\n",
    "plt.show()"
   ]
  },
  {
   "cell_type": "code",
   "execution_count": 12,
   "metadata": {},
   "outputs": [],
   "source": [
    "from sklearn.metrics import mean_squared_error"
   ]
  },
  {
   "cell_type": "code",
   "execution_count": 15,
   "metadata": {},
   "outputs": [
    {
     "data": {
      "text/plain": [
       "104.5789947402131"
      ]
     },
     "execution_count": 15,
     "metadata": {},
     "output_type": "execute_result"
    }
   ],
   "source": [
    "error_left_x = mean_squared_error(data.left_eye_center_x.values, np.full(data.left_eye_center_x.values.shape, data.left_eye_center_x.mean()))\n",
    "error_left_y = mean_squared_error(data.left_eye_center_y.values, np.full(data.left_eye_center_y.values.shape, data.left_eye_center_y.mean()))\n",
    "error_right_x = mean_squared_error(data.right_eye_center_x.values, np.full(data.right_eye_center_x.values.shape, data.right_eye_center_x.mean()))\n",
    "error_right_y = mean_squared_error(data.right_eye_center_y.values, np.full(data.right_eye_center_y.values.shape, data.right_eye_center_y.mean()))\n",
    "\n",
    "error = (error_left_x*error_left_x + error_left_y*error_left_y + error_right_x*error_right_x + error_right_y*error_right_y) / 4\n",
    "error"
   ]
  },
  {
   "cell_type": "code",
   "execution_count": 16,
   "metadata": {},
   "outputs": [],
   "source": [
    "from keras.preprocessing import image\n",
    "from keras.applications.vgg16 import preprocess_input\n",
    "from sklearn.model_selection import train_test_split"
   ]
  },
  {
   "cell_type": "code",
   "execution_count": 17,
   "metadata": {},
   "outputs": [],
   "source": [
    "images = []\n",
    "for img in data.image_name:\n",
    "    img = image.load_img('../datasets/facial_keypoint_identification/images/' + img, target_size=(224, 224, 3))\n",
    "    img = image.img_to_array(img)\n",
    "    images.append(img)\n",
    "    \n",
    "images = np.array(images)"
   ]
  },
  {
   "cell_type": "code",
   "execution_count": 18,
   "metadata": {},
   "outputs": [
    {
     "data": {
      "text/plain": [
       "(7033, 224, 224, 3)"
      ]
     },
     "execution_count": 18,
     "metadata": {},
     "output_type": "execute_result"
    }
   ],
   "source": [
    "images.shape"
   ]
  },
  {
   "cell_type": "code",
   "execution_count": 19,
   "metadata": {},
   "outputs": [],
   "source": [
    "X = preprocess_input(images, mode='tf')\n",
    "y = data.iloc[:, 1:].values"
   ]
  },
  {
   "cell_type": "code",
   "execution_count": 20,
   "metadata": {},
   "outputs": [],
   "source": [
    "X_train, X_valid, y_train, y_valid = train_test_split(X, y, test_size=0.3, random_state=42)"
   ]
  },
  {
   "cell_type": "code",
   "execution_count": 21,
   "metadata": {},
   "outputs": [],
   "source": [
    "from keras.applications.vgg16 import VGG16\n",
    "\n",
    "from keras.models import Sequential\n",
    "from keras.optimizers import Adam\n",
    "from keras.layers import Dense, Dropout, InputLayer\n",
    "from keras.callbacks import EarlyStopping"
   ]
  },
  {
   "cell_type": "code",
   "execution_count": 22,
   "metadata": {},
   "outputs": [],
   "source": [
    "base_model = VGG16(include_top=False, weights='imagenet', input_shape=(224, 224, 3))"
   ]
  },
  {
   "cell_type": "code",
   "execution_count": 23,
   "metadata": {},
   "outputs": [],
   "source": [
    "features_train = base_model.predict(X_train)\n",
    "features_valid = base_model.predict(X_valid)"
   ]
  },
  {
   "cell_type": "code",
   "execution_count": 24,
   "metadata": {},
   "outputs": [
    {
     "data": {
      "text/plain": [
       "10.810992"
      ]
     },
     "execution_count": 24,
     "metadata": {},
     "output_type": "execute_result"
    }
   ],
   "source": [
    "features_train.max()"
   ]
  },
  {
   "cell_type": "code",
   "execution_count": 25,
   "metadata": {},
   "outputs": [],
   "source": [
    "max_val = features_train.max()\n",
    "\n",
    "features_train /= max_val\n",
    "features_valid /= max_val"
   ]
  },
  {
   "cell_type": "code",
   "execution_count": 26,
   "metadata": {},
   "outputs": [],
   "source": [
    "features_train = features_train.reshape(features_train.shape[0], 7*7*512)\n",
    "features_valid = features_valid.reshape(features_valid.shape[0], 7*7*512)"
   ]
  },
  {
   "cell_type": "code",
   "execution_count": 27,
   "metadata": {},
   "outputs": [],
   "source": [
    "model = Sequential()\n",
    "\n",
    "model.add(InputLayer((7*7*512, )))\n",
    "model.add(Dense(1024, activation='relu'))\n",
    "model.add(Dropout(0.3))\n",
    "model.add(Dense(units=4, activation='linear'))\n",
    "\n",
    "adam = Adam(lr=1e-3)\n",
    "model.compile(loss='mean_squared_error', optimizer=adam)"
   ]
  },
  {
   "cell_type": "code",
   "execution_count": 28,
   "metadata": {},
   "outputs": [],
   "source": [
    "estop = EarlyStopping(patience=10, mode='min', min_delta=0.001, monitor='val_loss')"
   ]
  },
  {
   "cell_type": "code",
   "execution_count": 29,
   "metadata": {
    "scrolled": false
   },
   "outputs": [
    {
     "name": "stdout",
     "output_type": "stream",
     "text": [
      "Train on 4923 samples, validate on 2110 samples\n",
      "Epoch 1/200\n",
      "4923/4923 [==============================] - 1s 220us/step - loss: 1174.9048 - val_loss: 163.5989\n",
      "Epoch 2/200\n",
      "4923/4923 [==============================] - 1s 105us/step - loss: 150.7307 - val_loss: 188.2971\n",
      "Epoch 3/200\n",
      "4923/4923 [==============================] - 1s 104us/step - loss: 93.1750 - val_loss: 56.6709\n",
      "Epoch 4/200\n",
      "4923/4923 [==============================] - 1s 104us/step - loss: 60.0093 - val_loss: 34.1627\n",
      "Epoch 5/200\n",
      "4923/4923 [==============================] - 1s 105us/step - loss: 34.6466 - val_loss: 25.7038\n",
      "Epoch 6/200\n",
      "4923/4923 [==============================] - 1s 105us/step - loss: 28.2784 - val_loss: 19.2272\n",
      "Epoch 7/200\n",
      "4923/4923 [==============================] - 1s 104us/step - loss: 23.8032 - val_loss: 16.5836\n",
      "Epoch 8/200\n",
      "4923/4923 [==============================] - 1s 102us/step - loss: 21.1161 - val_loss: 14.9985\n",
      "Epoch 9/200\n",
      "4923/4923 [==============================] - 1s 104us/step - loss: 19.9412 - val_loss: 13.7888\n",
      "Epoch 10/200\n",
      "4923/4923 [==============================] - 1s 104us/step - loss: 18.7843 - val_loss: 12.8899\n",
      "Epoch 11/200\n",
      "4923/4923 [==============================] - 0s 101us/step - loss: 17.8915 - val_loss: 12.2336\n",
      "Epoch 12/200\n",
      "4923/4923 [==============================] - 1s 104us/step - loss: 16.8926 - val_loss: 11.6427\n",
      "Epoch 13/200\n",
      "4923/4923 [==============================] - 1s 105us/step - loss: 16.2962 - val_loss: 11.1401\n",
      "Epoch 14/200\n",
      "4923/4923 [==============================] - 1s 105us/step - loss: 15.7133 - val_loss: 10.7144\n",
      "Epoch 15/200\n",
      "4923/4923 [==============================] - 1s 106us/step - loss: 15.3440 - val_loss: 10.3413\n",
      "Epoch 16/200\n",
      "4923/4923 [==============================] - 1s 102us/step - loss: 14.7894 - val_loss: 9.9994\n",
      "Epoch 17/200\n",
      "4923/4923 [==============================] - 1s 103us/step - loss: 14.5404 - val_loss: 9.6702\n",
      "Epoch 18/200\n",
      "4923/4923 [==============================] - 1s 105us/step - loss: 13.9176 - val_loss: 9.4007\n",
      "Epoch 19/200\n",
      "4923/4923 [==============================] - 1s 106us/step - loss: 13.7096 - val_loss: 9.1569\n",
      "Epoch 20/200\n",
      "4923/4923 [==============================] - 1s 106us/step - loss: 13.2469 - val_loss: 8.9018\n",
      "Epoch 21/200\n",
      "4923/4923 [==============================] - 1s 107us/step - loss: 12.8861 - val_loss: 8.6740\n",
      "Epoch 22/200\n",
      "4923/4923 [==============================] - 1s 104us/step - loss: 12.6090 - val_loss: 8.5052\n",
      "Epoch 23/200\n",
      "4923/4923 [==============================] - 1s 108us/step - loss: 12.5637 - val_loss: 8.3360\n",
      "Epoch 24/200\n",
      "4923/4923 [==============================] - 1s 107us/step - loss: 12.1243 - val_loss: 8.1348\n",
      "Epoch 25/200\n",
      "4923/4923 [==============================] - 1s 104us/step - loss: 11.7643 - val_loss: 8.0579\n",
      "Epoch 26/200\n",
      "4923/4923 [==============================] - 1s 104us/step - loss: 11.7666 - val_loss: 7.8529\n",
      "Epoch 27/200\n",
      "4923/4923 [==============================] - 1s 105us/step - loss: 11.3502 - val_loss: 7.7753\n",
      "Epoch 28/200\n",
      "4923/4923 [==============================] - 1s 106us/step - loss: 11.1557 - val_loss: 7.5790\n",
      "Epoch 29/200\n",
      "4923/4923 [==============================] - 1s 105us/step - loss: 11.1622 - val_loss: 7.4775\n",
      "Epoch 30/200\n",
      "4923/4923 [==============================] - 1s 106us/step - loss: 10.6430 - val_loss: 7.3535\n",
      "Epoch 31/200\n",
      "4923/4923 [==============================] - 1s 103us/step - loss: 10.6103 - val_loss: 7.2461\n",
      "Epoch 32/200\n",
      "4923/4923 [==============================] - 1s 105us/step - loss: 10.4070 - val_loss: 7.1947\n",
      "Epoch 33/200\n",
      "4923/4923 [==============================] - 1s 102us/step - loss: 10.0987 - val_loss: 7.0429\n",
      "Epoch 34/200\n",
      "4923/4923 [==============================] - 1s 106us/step - loss: 9.8960 - val_loss: 6.9705\n",
      "Epoch 35/200\n",
      "4923/4923 [==============================] - 1s 105us/step - loss: 9.7399 - val_loss: 6.8721\n",
      "Epoch 36/200\n",
      "4923/4923 [==============================] - 1s 105us/step - loss: 9.6859 - val_loss: 6.7953\n",
      "Epoch 37/200\n",
      "4923/4923 [==============================] - 1s 105us/step - loss: 9.4508 - val_loss: 6.7146\n",
      "Epoch 38/200\n",
      "4923/4923 [==============================] - 1s 105us/step - loss: 9.4459 - val_loss: 6.6429\n",
      "Epoch 39/200\n",
      "4923/4923 [==============================] - 1s 105us/step - loss: 9.3372 - val_loss: 6.5720\n",
      "Epoch 40/200\n",
      "4923/4923 [==============================] - 1s 105us/step - loss: 9.1006 - val_loss: 6.5590\n",
      "Epoch 41/200\n",
      "4923/4923 [==============================] - 1s 106us/step - loss: 9.1067 - val_loss: 6.4384\n",
      "Epoch 42/200\n",
      "4923/4923 [==============================] - 1s 103us/step - loss: 8.7422 - val_loss: 6.3942\n",
      "Epoch 43/200\n",
      "4923/4923 [==============================] - 1s 107us/step - loss: 8.7349 - val_loss: 6.3262\n",
      "Epoch 44/200\n",
      "4923/4923 [==============================] - 1s 105us/step - loss: 8.6350 - val_loss: 6.2910\n",
      "Epoch 45/200\n",
      "4923/4923 [==============================] - 1s 105us/step - loss: 8.4050 - val_loss: 6.2307\n",
      "Epoch 46/200\n",
      "4923/4923 [==============================] - 1s 104us/step - loss: 8.6385 - val_loss: 6.2143\n",
      "Epoch 47/200\n",
      "4923/4923 [==============================] - 1s 107us/step - loss: 8.2924 - val_loss: 6.1283\n",
      "Epoch 48/200\n",
      "4923/4923 [==============================] - 1s 106us/step - loss: 8.2025 - val_loss: 6.0776\n",
      "Epoch 49/200\n",
      "4923/4923 [==============================] - 1s 105us/step - loss: 8.1064 - val_loss: 6.0774\n",
      "Epoch 50/200\n",
      "4923/4923 [==============================] - 1s 105us/step - loss: 8.0429 - val_loss: 6.0095\n",
      "Epoch 51/200\n",
      "4923/4923 [==============================] - 1s 104us/step - loss: 7.8438 - val_loss: 5.9560\n",
      "Epoch 52/200\n",
      "4923/4923 [==============================] - 1s 103us/step - loss: 7.8863 - val_loss: 5.9141\n",
      "Epoch 53/200\n",
      "4923/4923 [==============================] - 1s 105us/step - loss: 7.8754 - val_loss: 5.9304\n",
      "Epoch 54/200\n",
      "4923/4923 [==============================] - 1s 105us/step - loss: 7.6447 - val_loss: 5.9039\n",
      "Epoch 55/200\n",
      "4923/4923 [==============================] - 1s 107us/step - loss: 7.6692 - val_loss: 5.8275\n",
      "Epoch 56/200\n",
      "4923/4923 [==============================] - 1s 106us/step - loss: 7.5010 - val_loss: 5.7697\n",
      "Epoch 57/200\n",
      "4923/4923 [==============================] - 1s 106us/step - loss: 7.3686 - val_loss: 5.7553\n",
      "Epoch 58/200\n",
      "4923/4923 [==============================] - 1s 104us/step - loss: 7.2625 - val_loss: 5.7034\n",
      "Epoch 59/200\n",
      "4923/4923 [==============================] - 1s 107us/step - loss: 7.3177 - val_loss: 5.6986\n",
      "Epoch 60/200\n",
      "4923/4923 [==============================] - 1s 105us/step - loss: 7.1492 - val_loss: 5.6578\n",
      "Epoch 61/200\n",
      "4923/4923 [==============================] - 1s 104us/step - loss: 7.1260 - val_loss: 5.6555\n",
      "Epoch 62/200\n",
      "4923/4923 [==============================] - 1s 103us/step - loss: 7.0912 - val_loss: 5.6351\n",
      "Epoch 63/200\n",
      "4923/4923 [==============================] - 1s 103us/step - loss: 6.9679 - val_loss: 5.5911\n",
      "Epoch 64/200\n",
      "4923/4923 [==============================] - 1s 104us/step - loss: 6.8648 - val_loss: 5.5587\n",
      "Epoch 65/200\n",
      "4923/4923 [==============================] - 1s 103us/step - loss: 6.9747 - val_loss: 5.5199\n",
      "Epoch 66/200\n",
      "4923/4923 [==============================] - 1s 108us/step - loss: 6.8144 - val_loss: 5.5064\n",
      "Epoch 67/200\n",
      "4923/4923 [==============================] - 1s 106us/step - loss: 6.6891 - val_loss: 5.4852\n",
      "Epoch 68/200\n",
      "4923/4923 [==============================] - 1s 105us/step - loss: 6.7035 - val_loss: 5.4400\n",
      "Epoch 69/200\n",
      "4923/4923 [==============================] - 1s 104us/step - loss: 6.6473 - val_loss: 5.4633\n",
      "Epoch 70/200\n",
      "4923/4923 [==============================] - 1s 103us/step - loss: 6.6286 - val_loss: 5.4625\n",
      "Epoch 71/200\n",
      "4923/4923 [==============================] - 1s 105us/step - loss: 6.4962 - val_loss: 5.3852\n",
      "Epoch 72/200\n",
      "4923/4923 [==============================] - 1s 106us/step - loss: 6.4363 - val_loss: 5.3787\n",
      "Epoch 73/200\n",
      "4923/4923 [==============================] - 1s 104us/step - loss: 6.2846 - val_loss: 5.3322\n",
      "Epoch 74/200\n",
      "4923/4923 [==============================] - 1s 104us/step - loss: 6.3225 - val_loss: 5.3152\n",
      "Epoch 75/200\n",
      "4923/4923 [==============================] - 0s 100us/step - loss: 6.2735 - val_loss: 5.3111\n",
      "Epoch 76/200\n",
      "4923/4923 [==============================] - 1s 103us/step - loss: 6.0966 - val_loss: 5.3511\n",
      "Epoch 77/200\n"
     ]
    },
    {
     "name": "stdout",
     "output_type": "stream",
     "text": [
      "4923/4923 [==============================] - 1s 105us/step - loss: 6.1586 - val_loss: 5.3247\n",
      "Epoch 78/200\n",
      "4923/4923 [==============================] - 1s 104us/step - loss: 6.1735 - val_loss: 5.2831\n",
      "Epoch 79/200\n",
      "4923/4923 [==============================] - 1s 104us/step - loss: 6.0867 - val_loss: 5.2402\n",
      "Epoch 80/200\n",
      "4923/4923 [==============================] - 1s 104us/step - loss: 6.0248 - val_loss: 5.2214\n",
      "Epoch 81/200\n",
      "4923/4923 [==============================] - 1s 103us/step - loss: 6.0318 - val_loss: 5.2379\n",
      "Epoch 82/200\n",
      "4923/4923 [==============================] - 0s 101us/step - loss: 6.0431 - val_loss: 5.1970\n",
      "Epoch 83/200\n",
      "4923/4923 [==============================] - 1s 103us/step - loss: 5.8859 - val_loss: 5.1793\n",
      "Epoch 84/200\n",
      "4923/4923 [==============================] - 0s 101us/step - loss: 5.7955 - val_loss: 5.1691\n",
      "Epoch 85/200\n",
      "4923/4923 [==============================] - 1s 102us/step - loss: 5.9031 - val_loss: 5.1961\n",
      "Epoch 86/200\n",
      "4923/4923 [==============================] - 1s 104us/step - loss: 5.8347 - val_loss: 5.1498\n",
      "Epoch 87/200\n",
      "4923/4923 [==============================] - 0s 100us/step - loss: 5.7305 - val_loss: 5.1291\n",
      "Epoch 88/200\n",
      "4923/4923 [==============================] - 1s 104us/step - loss: 5.7830 - val_loss: 5.1579\n",
      "Epoch 89/200\n",
      "4923/4923 [==============================] - 1s 105us/step - loss: 5.7790 - val_loss: 5.1412\n",
      "Epoch 90/200\n",
      "4923/4923 [==============================] - 0s 100us/step - loss: 5.5033 - val_loss: 5.1730\n",
      "Epoch 91/200\n",
      "4923/4923 [==============================] - 1s 103us/step - loss: 5.6220 - val_loss: 5.2068\n",
      "Epoch 92/200\n",
      "4923/4923 [==============================] - 1s 104us/step - loss: 5.5659 - val_loss: 5.1034\n",
      "Epoch 93/200\n",
      "4923/4923 [==============================] - 1s 105us/step - loss: 5.5477 - val_loss: 5.0604\n",
      "Epoch 94/200\n",
      "4923/4923 [==============================] - 1s 105us/step - loss: 5.5852 - val_loss: 5.0523\n",
      "Epoch 95/200\n",
      "4923/4923 [==============================] - 1s 104us/step - loss: 5.3404 - val_loss: 5.0789\n",
      "Epoch 96/200\n",
      "4923/4923 [==============================] - 1s 103us/step - loss: 5.4579 - val_loss: 5.0406\n",
      "Epoch 97/200\n",
      "4923/4923 [==============================] - 1s 105us/step - loss: 5.4077 - val_loss: 5.0792\n",
      "Epoch 98/200\n",
      "4923/4923 [==============================] - 1s 104us/step - loss: 5.2686 - val_loss: 5.1673\n",
      "Epoch 99/200\n",
      "4923/4923 [==============================] - 1s 106us/step - loss: 5.3380 - val_loss: 5.1099\n",
      "Epoch 100/200\n",
      "4923/4923 [==============================] - 1s 104us/step - loss: 5.2497 - val_loss: 5.0471\n",
      "Epoch 101/200\n",
      "4923/4923 [==============================] - 1s 102us/step - loss: 5.3753 - val_loss: 5.0040\n",
      "Epoch 102/200\n",
      "4923/4923 [==============================] - 1s 103us/step - loss: 5.2950 - val_loss: 5.0079\n",
      "Epoch 103/200\n",
      "4923/4923 [==============================] - 1s 104us/step - loss: 5.1351 - val_loss: 4.9655\n",
      "Epoch 104/200\n",
      "4923/4923 [==============================] - 1s 102us/step - loss: 5.0944 - val_loss: 5.0053\n",
      "Epoch 105/200\n",
      "4923/4923 [==============================] - 1s 105us/step - loss: 5.1675 - val_loss: 5.1113\n",
      "Epoch 106/200\n",
      "4923/4923 [==============================] - 1s 104us/step - loss: 5.0412 - val_loss: 5.0221\n",
      "Epoch 107/200\n",
      "4923/4923 [==============================] - 1s 104us/step - loss: 4.9716 - val_loss: 4.9480\n",
      "Epoch 108/200\n",
      "4923/4923 [==============================] - 1s 106us/step - loss: 5.0057 - val_loss: 4.9515\n",
      "Epoch 109/200\n",
      "4923/4923 [==============================] - 1s 104us/step - loss: 4.9333 - val_loss: 4.9234\n",
      "Epoch 110/200\n",
      "4923/4923 [==============================] - 1s 103us/step - loss: 4.9773 - val_loss: 4.9451\n",
      "Epoch 111/200\n",
      "4923/4923 [==============================] - 1s 105us/step - loss: 4.9807 - val_loss: 4.9142\n",
      "Epoch 112/200\n",
      "4923/4923 [==============================] - 1s 103us/step - loss: 4.9605 - val_loss: 4.9430\n",
      "Epoch 113/200\n",
      "4923/4923 [==============================] - 1s 105us/step - loss: 4.9956 - val_loss: 4.9602\n",
      "Epoch 114/200\n",
      "4923/4923 [==============================] - 1s 104us/step - loss: 4.8568 - val_loss: 4.9426\n",
      "Epoch 115/200\n",
      "4923/4923 [==============================] - 1s 102us/step - loss: 4.8371 - val_loss: 4.9715\n",
      "Epoch 116/200\n",
      "4923/4923 [==============================] - 0s 98us/step - loss: 4.8273 - val_loss: 4.9094\n",
      "Epoch 117/200\n",
      "4923/4923 [==============================] - 1s 103us/step - loss: 4.7319 - val_loss: 4.8938\n",
      "Epoch 118/200\n",
      "4923/4923 [==============================] - 1s 105us/step - loss: 4.8001 - val_loss: 4.9545\n",
      "Epoch 119/200\n",
      "4923/4923 [==============================] - 1s 105us/step - loss: 4.8361 - val_loss: 4.9357\n",
      "Epoch 120/200\n",
      "4923/4923 [==============================] - 1s 106us/step - loss: 4.6953 - val_loss: 4.9066\n",
      "Epoch 121/200\n",
      "4923/4923 [==============================] - 1s 102us/step - loss: 4.6674 - val_loss: 4.8618\n",
      "Epoch 122/200\n",
      "4923/4923 [==============================] - 0s 101us/step - loss: 4.6926 - val_loss: 4.8772\n",
      "Epoch 123/200\n",
      "4923/4923 [==============================] - 1s 105us/step - loss: 4.6398 - val_loss: 4.8669\n",
      "Epoch 124/200\n",
      "4923/4923 [==============================] - 1s 105us/step - loss: 4.6001 - val_loss: 4.8957\n",
      "Epoch 125/200\n",
      "4923/4923 [==============================] - 1s 106us/step - loss: 4.5660 - val_loss: 4.8645\n",
      "Epoch 126/200\n",
      "4923/4923 [==============================] - 1s 105us/step - loss: 4.5805 - val_loss: 4.8587\n",
      "Epoch 127/200\n",
      "4923/4923 [==============================] - 1s 105us/step - loss: 4.4807 - val_loss: 4.8576\n",
      "Epoch 128/200\n",
      "4923/4923 [==============================] - 1s 104us/step - loss: 4.5031 - val_loss: 4.9610\n",
      "Epoch 129/200\n",
      "4923/4923 [==============================] - 1s 106us/step - loss: 4.4574 - val_loss: 4.8656\n",
      "Epoch 130/200\n",
      "4923/4923 [==============================] - 1s 105us/step - loss: 4.5525 - val_loss: 4.8566\n",
      "Epoch 131/200\n",
      "4923/4923 [==============================] - 1s 105us/step - loss: 4.5099 - val_loss: 4.8314\n",
      "Epoch 132/200\n",
      "4923/4923 [==============================] - 1s 105us/step - loss: 4.4124 - val_loss: 4.8147\n",
      "Epoch 133/200\n",
      "4923/4923 [==============================] - 1s 106us/step - loss: 4.5414 - val_loss: 4.8861\n",
      "Epoch 134/200\n",
      "4923/4923 [==============================] - 1s 105us/step - loss: 4.4564 - val_loss: 4.7934\n",
      "Epoch 135/200\n",
      "4923/4923 [==============================] - 1s 106us/step - loss: 4.3898 - val_loss: 4.7900\n",
      "Epoch 136/200\n",
      "4923/4923 [==============================] - 1s 104us/step - loss: 4.3718 - val_loss: 4.8185\n",
      "Epoch 137/200\n",
      "4923/4923 [==============================] - 1s 107us/step - loss: 4.3322 - val_loss: 4.7887\n",
      "Epoch 138/200\n",
      "4923/4923 [==============================] - 1s 104us/step - loss: 4.3999 - val_loss: 4.9703\n",
      "Epoch 139/200\n",
      "4923/4923 [==============================] - 1s 105us/step - loss: 4.3908 - val_loss: 4.8485\n",
      "Epoch 140/200\n",
      "4923/4923 [==============================] - 1s 106us/step - loss: 4.2514 - val_loss: 4.7922\n",
      "Epoch 141/200\n",
      "4923/4923 [==============================] - 1s 105us/step - loss: 4.3000 - val_loss: 4.7892\n",
      "Epoch 142/200\n",
      "4923/4923 [==============================] - 1s 106us/step - loss: 4.2422 - val_loss: 4.8010\n",
      "Epoch 143/200\n",
      "4923/4923 [==============================] - 1s 104us/step - loss: 4.3264 - val_loss: 4.8159\n",
      "Epoch 144/200\n",
      "4923/4923 [==============================] - 1s 103us/step - loss: 4.2782 - val_loss: 4.8007\n",
      "Epoch 145/200\n",
      "4923/4923 [==============================] - 1s 103us/step - loss: 4.1576 - val_loss: 4.8030\n",
      "Epoch 146/200\n",
      "4923/4923 [==============================] - 1s 103us/step - loss: 4.2146 - val_loss: 4.8284\n",
      "Epoch 147/200\n",
      "4923/4923 [==============================] - 0s 96us/step - loss: 4.2253 - val_loss: 4.8309\n"
     ]
    },
    {
     "data": {
      "text/plain": [
       "<keras.callbacks.History at 0x7f67b07d7f28>"
      ]
     },
     "execution_count": 29,
     "metadata": {},
     "output_type": "execute_result"
    }
   ],
   "source": [
    "model.fit(features_train, y_train, epochs=200, batch_size=512, validation_data=(features_valid, y_valid), callbacks=[estop])"
   ]
  },
  {
   "cell_type": "code",
   "execution_count": 42,
   "metadata": {},
   "outputs": [
    {
     "data": {
      "image/png": "[encoded data removed]",
      "text/plain": [
       "<Figure size 432x288 with 1 Axes>"
      ]
     },
     "metadata": {},
     "output_type": "display_data"
    }
   ],
   "source": [
    "# get predictions\n",
    "predictions = model.predict(features_valid)\n",
    "\n",
    "# extract validation images\n",
    "_, valid_images, _, _ = train_test_split(data.image_name.values, y, test_size=0.3, random_state=42)\n",
    "\n",
    "# get random validation image index\n",
    "idx = rng.choice(range(len(valid_images)))\n",
    "\n",
    "# get corresponding image name\n",
    "image_name = valid_images[idx]\n",
    "\n",
    "# get actual targets\n",
    "left_x = data.loc[data.image_name == image_name, 'left_eye_center_x']\n",
    "left_y = data.loc[data.image_name == image_name, 'left_eye_center_y']\n",
    "right_x = data.loc[data.image_name == image_name, 'right_eye_center_x']\n",
    "right_y = data.loc[data.image_name == image_name, 'right_eye_center_y']\n",
    "\n",
    "# get corresponding predictions\n",
    "pred_left_x, pred_left_y, pred_right_x, pred_right_y = predictions[idx]\n",
    "\n",
    "# read image\n",
    "img = plt.imread('../datasets/facial_keypoint_identification/images/' + image_name)\n",
    "\n",
    "# plot empty figure\n",
    "fig = plt.figure()\n",
    "\n",
    "# plot image\n",
    "plt.imshow(img, cmap='gray')\n",
    "\n",
    "# plot actual targets\n",
    "plt.scatter(left_x, left_y, marker='x', c='r')\n",
    "plt.scatter(right_x, right_y, marker='x', c='r')\n",
    "\n",
    "# plot predictions\n",
    "plt.scatter(pred_left_x, pred_left_y, marker='o', c='w')\n",
    "plt.scatter(pred_right_x, pred_right_y, marker='o', c='w')\n",
    "\n",
    "# show figure\n",
    "plt.show()"
   ]
  },
  {
   "cell_type": "code",
   "execution_count": null,
   "metadata": {},
   "outputs": [],
   "source": []
  },
  {
   "cell_type": "code",
   "execution_count": null,
   "metadata": {},
   "outputs": [],
   "source": []
  },
  {
   "cell_type": "code",
   "execution_count": null,
   "metadata": {},
   "outputs": [],
   "source": []
  },
  {
   "cell_type": "code",
   "execution_count": null,
   "metadata": {},
   "outputs": [],
   "source": []
  },
  {
   "cell_type": "code",
   "execution_count": null,
   "metadata": {},
   "outputs": [],
   "source": []
  },
  {
   "cell_type": "code",
   "execution_count": null,
   "metadata": {},
   "outputs": [],
   "source": []
  },
  {
   "cell_type": "code",
   "execution_count": null,
   "metadata": {},
   "outputs": [],
   "source": []
  },
  {
   "cell_type": "code",
   "execution_count": null,
   "metadata": {},
   "outputs": [],
   "source": []
  },
  {
   "cell_type": "code",
   "execution_count": null,
   "metadata": {},
   "outputs": [],
   "source": []
  },
  {
   "cell_type": "code",
   "execution_count": null,
   "metadata": {},
   "outputs": [],
   "source": []
  }
 ],
 "metadata": {
  "kernelspec": {
   "display_name": "Python 3",
   "language": "python",
   "name": "python3"
  },
  "language_info": {
   "codemirror_mode": {
    "name": "ipython",
    "version": 3
   },
   "file_extension": ".py",
   "mimetype": "text/x-python",
   "name": "python",
   "nbconvert_exporter": "python",
   "pygments_lexer": "ipython3",
   "version": "3.6.6"
  }
 },
 "nbformat": 4,
 "nbformat_minor": 2
}
