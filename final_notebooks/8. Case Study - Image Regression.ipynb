{
 "cells": [
  {
   "cell_type": "markdown",
   "metadata": {},
   "source": [
    "## 1. Data Exploration"
   ]
  },
  {
   "cell_type": "code",
   "execution_count": 52,
   "metadata": {
    "collapsed": true
   },
   "outputs": [],
   "source": [
    "%matplotlib inline\n",
    "\n",
    "import numpy as np\n",
    "import pandas as pd\n",
    "\n",
    "import matplotlib.pyplot as plt"
   ]
  },
  {
   "cell_type": "code",
   "execution_count": 3,
   "metadata": {
    "collapsed": true
   },
   "outputs": [],
   "source": [
    "seed = 42\n",
    "rng = np.random.RandomState(seed)"
   ]
  },
  {
   "cell_type": "code",
   "execution_count": 4,
   "metadata": {
    "collapsed": true
   },
   "outputs": [],
   "source": [
    "data = pd.read_csv('../datasets/facial_keypoint_identification/facial_keypoint_identification.csv')"
   ]
  },
  {
   "cell_type": "code",
   "execution_count": 5,
   "metadata": {},
   "outputs": [
    {
     "data": {
      "text/html": [
       "<div>\n",
       "<style scoped>\n",
       "    .dataframe tbody tr th:only-of-type {\n",
       "        vertical-align: middle;\n",
       "    }\n",
       "\n",
       "    .dataframe tbody tr th {\n",
       "        vertical-align: top;\n",
       "    }\n",
       "\n",
       "    .dataframe thead th {\n",
       "        text-align: right;\n",
       "    }\n",
       "</style>\n",
       "<table border=\"1\" class=\"dataframe\">\n",
       "  <thead>\n",
       "    <tr style=\"text-align: right;\">\n",
       "      <th></th>\n",
       "      <th>image_name</th>\n",
       "      <th>left_eye_center_x</th>\n",
       "      <th>left_eye_center_y</th>\n",
       "      <th>right_eye_center_x</th>\n",
       "      <th>right_eye_center_y</th>\n",
       "    </tr>\n",
       "  </thead>\n",
       "  <tbody>\n",
       "    <tr>\n",
       "      <th>0</th>\n",
       "      <td>0.jpg</td>\n",
       "      <td>66</td>\n",
       "      <td>39</td>\n",
       "      <td>30</td>\n",
       "      <td>36</td>\n",
       "    </tr>\n",
       "    <tr>\n",
       "      <th>1</th>\n",
       "      <td>1.jpg</td>\n",
       "      <td>64</td>\n",
       "      <td>34</td>\n",
       "      <td>29</td>\n",
       "      <td>33</td>\n",
       "    </tr>\n",
       "    <tr>\n",
       "      <th>2</th>\n",
       "      <td>2.jpg</td>\n",
       "      <td>65</td>\n",
       "      <td>34</td>\n",
       "      <td>30</td>\n",
       "      <td>34</td>\n",
       "    </tr>\n",
       "    <tr>\n",
       "      <th>3</th>\n",
       "      <td>3.jpg</td>\n",
       "      <td>65</td>\n",
       "      <td>37</td>\n",
       "      <td>32</td>\n",
       "      <td>37</td>\n",
       "    </tr>\n",
       "    <tr>\n",
       "      <th>4</th>\n",
       "      <td>4.jpg</td>\n",
       "      <td>66</td>\n",
       "      <td>39</td>\n",
       "      <td>32</td>\n",
       "      <td>38</td>\n",
       "    </tr>\n",
       "  </tbody>\n",
       "</table>\n",
       "</div>"
      ],
      "text/plain": [
       "  image_name  left_eye_center_x  left_eye_center_y  right_eye_center_x  \\\n",
       "0      0.jpg                 66                 39                  30   \n",
       "1      1.jpg                 64                 34                  29   \n",
       "2      2.jpg                 65                 34                  30   \n",
       "3      3.jpg                 65                 37                  32   \n",
       "4      4.jpg                 66                 39                  32   \n",
       "\n",
       "   right_eye_center_y  \n",
       "0                  36  \n",
       "1                  33  \n",
       "2                  34  \n",
       "3                  37  \n",
       "4                  38  "
      ]
     },
     "execution_count": 5,
     "metadata": {},
     "output_type": "execute_result"
    }
   ],
   "source": [
    "data.head()"
   ]
  },
  {
   "cell_type": "code",
   "execution_count": 6,
   "metadata": {},
   "outputs": [
    {
     "name": "stdout",
     "output_type": "stream",
     "text": [
      "Shape of original image is (96, 96, 3)\n"
     ]
    },
    {
     "data": {
      "image/png": "[encoded data removed]",
      "text/plain": [
       "<Figure size 432x288 with 1 Axes>"
      ]
     },
     "metadata": {},
     "output_type": "display_data"
    }
   ],
   "source": [
    "# get random index of data\n",
    "idx = rng.choice(data.index)\n",
    "\n",
    "# read image\n",
    "img = plt.imread('../datasets/facial_keypoint_identification/images/' + data.image_name.iloc[idx])\n",
    "\n",
    "# create an empty figure to plot the image and target\n",
    "fig = plt.figure()\n",
    "\n",
    "# plot image\n",
    "plt.imshow(img)\n",
    "\n",
    "# plot target\n",
    "plt.scatter(data.left_eye_center_x.iloc[idx], data.left_eye_center_y.iloc[idx], marker='x', c='r')\n",
    "plt.scatter(data.right_eye_center_x.iloc[idx], data.right_eye_center_y.iloc[idx], marker='x', c='r')\n",
    "\n",
    "# and print the shape of image\n",
    "print('Shape of original image is', img.shape)\n",
    "\n",
    "# finally show the figure\n",
    "plt.show()"
   ]
  },
  {
   "cell_type": "code",
   "execution_count": 8,
   "metadata": {
    "collapsed": true
   },
   "outputs": [],
   "source": [
    "from sklearn.metrics import mean_squared_error"
   ]
  },
  {
   "cell_type": "code",
   "execution_count": 60,
   "metadata": {},
   "outputs": [
    {
     "data": {
      "text/plain": [
       "104.5789947402131"
      ]
     },
     "execution_count": 60,
     "metadata": {},
     "output_type": "execute_result"
    }
   ],
   "source": [
    "error_left_x = mean_squared_error(data.left_eye_center_x.values, np.full(data.left_eye_center_x.values.shape, data.left_eye_center_x.mean()))\n",
    "error_left_y = mean_squared_error(data.left_eye_center_y.values, np.full(data.left_eye_center_y.values.shape, data.left_eye_center_y.mean()))\n",
    "error_right_x = mean_squared_error(data.right_eye_center_x.values, np.full(data.right_eye_center_x.values.shape, data.right_eye_center_x.mean()))\n",
    "error_right_y = mean_squared_error(data.right_eye_center_y.values, np.full(data.right_eye_center_y.values.shape, data.right_eye_center_y.mean()))\n",
    "\n",
    "error = (error_left_x*error_left_x + error_left_y*error_left_y + error_right_x*error_right_x + error_right_y*error_right_y ) / 4\n",
    "error"
   ]
  },
  {
   "cell_type": "markdown",
   "metadata": {},
   "source": [
    "## 2. Data Loading and Preprocessing"
   ]
  },
  {
   "cell_type": "code",
   "execution_count": 10,
   "metadata": {},
   "outputs": [
    {
     "name": "stderr",
     "output_type": "stream",
     "text": [
      "Using TensorFlow backend.\n"
     ]
    }
   ],
   "source": [
    "from keras.preprocessing import image\n",
    "from keras.applications.vgg16 import preprocess_input\n",
    "from sklearn.model_selection import train_test_split"
   ]
  },
  {
   "cell_type": "code",
   "execution_count": 11,
   "metadata": {
    "collapsed": true
   },
   "outputs": [],
   "source": [
    "images = []\n",
    "for img in data.image_name:\n",
    "    img = image.load_img('../datasets/facial_keypoint_identification/images/' + img, target_size=(224, 224, 3))\n",
    "    img = image.img_to_array(img)\n",
    "    images.append(img)\n",
    "    \n",
    "images=np.array(images)"
   ]
  },
  {
   "cell_type": "code",
   "execution_count": 54,
   "metadata": {},
   "outputs": [
    {
     "data": {
      "text/plain": [
       "(7033, 224, 224, 3)"
      ]
     },
     "execution_count": 54,
     "metadata": {},
     "output_type": "execute_result"
    }
   ],
   "source": [
    "images.shape"
   ]
  },
  {
   "cell_type": "code",
   "execution_count": 13,
   "metadata": {
    "collapsed": true
   },
   "outputs": [],
   "source": [
    "X=preprocess_input(images, mode='tf')\n",
    "y = data.iloc[:, 1:].values"
   ]
  },
  {
   "cell_type": "code",
   "execution_count": 14,
   "metadata": {
    "collapsed": true
   },
   "outputs": [],
   "source": [
    "X_train, X_valid, Y_train, Y_valid=train_test_split(X,y,test_size=0.3, random_state=42)"
   ]
  },
  {
   "cell_type": "markdown",
   "metadata": {},
   "source": [
    "## 3. Model Building"
   ]
  },
  {
   "cell_type": "code",
   "execution_count": 55,
   "metadata": {
    "collapsed": true
   },
   "outputs": [],
   "source": [
    "from keras.applications.vgg16 import VGG16\n",
    "\n",
    "from keras.models import Sequential\n",
    "from keras.optimizers import Adam\n",
    "from keras.layers import Dense, Dropout, InputLayer\n",
    "from keras.callbacks import EarlyStopping"
   ]
  },
  {
   "cell_type": "code",
   "execution_count": 16,
   "metadata": {
    "collapsed": true
   },
   "outputs": [],
   "source": [
    "base_model = VGG16(include_top=False, weights='imagenet', input_shape=(224, 224, 3))"
   ]
  },
  {
   "cell_type": "code",
   "execution_count": 18,
   "metadata": {
    "collapsed": true
   },
   "outputs": [],
   "source": [
    "features_train = base_model.predict(X_train)\n",
    "features_valid = base_model.predict(X_valid)"
   ]
  },
  {
   "cell_type": "code",
   "execution_count": 20,
   "metadata": {},
   "outputs": [
    {
     "data": {
      "text/plain": [
       "10.810992"
      ]
     },
     "execution_count": 20,
     "metadata": {},
     "output_type": "execute_result"
    }
   ],
   "source": [
    "features_train.max()"
   ]
  },
  {
   "cell_type": "code",
   "execution_count": 21,
   "metadata": {
    "collapsed": true
   },
   "outputs": [],
   "source": [
    "max_val = features_train.max()"
   ]
  },
  {
   "cell_type": "code",
   "execution_count": 22,
   "metadata": {
    "collapsed": true
   },
   "outputs": [],
   "source": [
    "features_train /= max_val\n",
    "features_valid /= max_val"
   ]
  },
  {
   "cell_type": "code",
   "execution_count": 24,
   "metadata": {
    "collapsed": true
   },
   "outputs": [],
   "source": [
    "features_train = features_train.reshape(features_train.shape[0], 7*7*512)\n",
    "features_valid = features_valid.reshape(features_valid.shape[0], 7*7*512)"
   ]
  },
  {
   "cell_type": "code",
   "execution_count": 61,
   "metadata": {
    "collapsed": true,
    "scrolled": true
   },
   "outputs": [],
   "source": [
    "model=Sequential()\n",
    "model.add(InputLayer((7*7*512, )))\n",
    "model.add(Dense(1024, activation='relu'))\n",
    "model.add(Dropout(0.3))\n",
    "model.add(Dense(units=4, activation='linear'))\n",
    "\n",
    "adam = Adam(lr=1e-3)\n",
    "model.compile(loss='mean_squared_error', optimizer=adam)"
   ]
  },
  {
   "cell_type": "code",
   "execution_count": 62,
   "metadata": {
    "collapsed": true
   },
   "outputs": [],
   "source": [
    "estop = EarlyStopping(patience=10, mode='min', min_delta=0.001, monitor='val_loss')"
   ]
  },
  {
   "cell_type": "code",
   "execution_count": 63,
   "metadata": {
    "scrolled": true
   },
   "outputs": [
    {
     "name": "stdout",
     "output_type": "stream",
     "text": [
      "Train on 4923 samples, validate on 2110 samples\n",
      "Epoch 1/200\n",
      "4923/4923 [==============================] - 1s 207us/step - loss: 1191.2755 - mean_squared_error: 1191.2755 - val_loss: 180.5864 - val_mean_squared_error: 180.5864\n",
      "Epoch 2/200\n",
      "4923/4923 [==============================] - 0s 98us/step - loss: 152.2944 - mean_squared_error: 152.2944 - val_loss: 187.9358 - val_mean_squared_error: 187.9358\n",
      "Epoch 3/200\n",
      "4923/4923 [==============================] - 0s 98us/step - loss: 95.3501 - mean_squared_error: 95.3501 - val_loss: 55.3421 - val_mean_squared_error: 55.3421\n",
      "Epoch 4/200\n",
      "4923/4923 [==============================] - 0s 98us/step - loss: 59.3695 - mean_squared_error: 59.3695 - val_loss: 36.7566 - val_mean_squared_error: 36.7566\n",
      "Epoch 5/200\n",
      "4923/4923 [==============================] - 0s 98us/step - loss: 35.6869 - mean_squared_error: 35.6869 - val_loss: 24.9966 - val_mean_squared_error: 24.9966\n",
      "Epoch 6/200\n",
      "4923/4923 [==============================] - 0s 99us/step - loss: 28.5819 - mean_squared_error: 28.5819 - val_loss: 19.0416 - val_mean_squared_error: 19.0416\n",
      "Epoch 7/200\n",
      "4923/4923 [==============================] - 0s 97us/step - loss: 23.2533 - mean_squared_error: 23.2533 - val_loss: 16.7506 - val_mean_squared_error: 16.7506\n",
      "Epoch 8/200\n",
      "4923/4923 [==============================] - 0s 100us/step - loss: 21.3251 - mean_squared_error: 21.3251 - val_loss: 14.9171 - val_mean_squared_error: 14.9171\n",
      "Epoch 9/200\n",
      "4923/4923 [==============================] - 0s 98us/step - loss: 19.3249 - mean_squared_error: 19.3249 - val_loss: 13.5906 - val_mean_squared_error: 13.5906\n",
      "Epoch 10/200\n",
      "4923/4923 [==============================] - 0s 97us/step - loss: 18.5301 - mean_squared_error: 18.5301 - val_loss: 12.7434 - val_mean_squared_error: 12.7434\n",
      "Epoch 11/200\n",
      "4923/4923 [==============================] - 0s 98us/step - loss: 17.2847 - mean_squared_error: 17.2847 - val_loss: 12.0376 - val_mean_squared_error: 12.0376\n",
      "Epoch 12/200\n",
      "4923/4923 [==============================] - 0s 98us/step - loss: 16.7846 - mean_squared_error: 16.7846 - val_loss: 11.5013 - val_mean_squared_error: 11.5013\n",
      "Epoch 13/200\n",
      "4923/4923 [==============================] - 0s 98us/step - loss: 16.1848 - mean_squared_error: 16.1848 - val_loss: 10.9479 - val_mean_squared_error: 10.9479\n",
      "Epoch 14/200\n",
      "4923/4923 [==============================] - 0s 96us/step - loss: 15.5776 - mean_squared_error: 15.5776 - val_loss: 10.5037 - val_mean_squared_error: 10.5037\n",
      "Epoch 15/200\n",
      "4923/4923 [==============================] - 0s 98us/step - loss: 14.9887 - mean_squared_error: 14.9887 - val_loss: 10.1292 - val_mean_squared_error: 10.1292\n",
      "Epoch 16/200\n",
      "4923/4923 [==============================] - 0s 99us/step - loss: 14.5906 - mean_squared_error: 14.5906 - val_loss: 9.7486 - val_mean_squared_error: 9.7486\n",
      "Epoch 17/200\n",
      "4923/4923 [==============================] - 0s 97us/step - loss: 14.1205 - mean_squared_error: 14.1205 - val_loss: 9.4327 - val_mean_squared_error: 9.4327\n",
      "Epoch 18/200\n",
      "4923/4923 [==============================] - 0s 95us/step - loss: 13.7974 - mean_squared_error: 13.7974 - val_loss: 9.1496 - val_mean_squared_error: 9.1496\n",
      "Epoch 19/200\n",
      "4923/4923 [==============================] - 0s 98us/step - loss: 13.3378 - mean_squared_error: 13.3378 - val_loss: 8.9322 - val_mean_squared_error: 8.9322\n",
      "Epoch 20/200\n",
      "4923/4923 [==============================] - 0s 96us/step - loss: 13.0296 - mean_squared_error: 13.0296 - val_loss: 8.6500 - val_mean_squared_error: 8.6500\n",
      "Epoch 21/200\n",
      "4923/4923 [==============================] - 0s 93us/step - loss: 13.1042 - mean_squared_error: 13.1042 - val_loss: 8.4900 - val_mean_squared_error: 8.4900\n",
      "Epoch 22/200\n",
      "4923/4923 [==============================] - 0s 97us/step - loss: 12.3736 - mean_squared_error: 12.3736 - val_loss: 8.2526 - val_mean_squared_error: 8.2526\n",
      "Epoch 23/200\n",
      "4923/4923 [==============================] - 0s 99us/step - loss: 12.2183 - mean_squared_error: 12.2183 - val_loss: 8.1215 - val_mean_squared_error: 8.1215\n",
      "Epoch 24/200\n",
      "4923/4923 [==============================] - 0s 97us/step - loss: 11.7007 - mean_squared_error: 11.7007 - val_loss: 7.9344 - val_mean_squared_error: 7.9344\n",
      "Epoch 25/200\n",
      "4923/4923 [==============================] - 0s 97us/step - loss: 11.6881 - mean_squared_error: 11.6881 - val_loss: 7.8767 - val_mean_squared_error: 7.8767\n",
      "Epoch 26/200\n",
      "4923/4923 [==============================] - 0s 97us/step - loss: 11.2941 - mean_squared_error: 11.2941 - val_loss: 7.6520 - val_mean_squared_error: 7.6520\n",
      "Epoch 27/200\n",
      "4923/4923 [==============================] - 0s 95us/step - loss: 11.0633 - mean_squared_error: 11.0633 - val_loss: 7.5433 - val_mean_squared_error: 7.5433\n",
      "Epoch 28/200\n",
      "4923/4923 [==============================] - 0s 94us/step - loss: 11.0944 - mean_squared_error: 11.0944 - val_loss: 7.3931 - val_mean_squared_error: 7.3931\n",
      "Epoch 29/200\n",
      "4923/4923 [==============================] - 0s 96us/step - loss: 10.7664 - mean_squared_error: 10.7664 - val_loss: 7.2908 - val_mean_squared_error: 7.2908\n",
      "Epoch 30/200\n",
      "4923/4923 [==============================] - 0s 95us/step - loss: 10.7834 - mean_squared_error: 10.7834 - val_loss: 7.2077 - val_mean_squared_error: 7.2077\n",
      "Epoch 31/200\n",
      "4923/4923 [==============================] - 0s 97us/step - loss: 10.3595 - mean_squared_error: 10.3595 - val_loss: 7.0805 - val_mean_squared_error: 7.0805\n",
      "Epoch 32/200\n",
      "4923/4923 [==============================] - 0s 96us/step - loss: 10.1433 - mean_squared_error: 10.1433 - val_loss: 6.9893 - val_mean_squared_error: 6.9893\n",
      "Epoch 33/200\n",
      "4923/4923 [==============================] - 0s 96us/step - loss: 10.1357 - mean_squared_error: 10.1357 - val_loss: 6.9658 - val_mean_squared_error: 6.9658\n",
      "Epoch 34/200\n",
      "4923/4923 [==============================] - 0s 96us/step - loss: 9.9461 - mean_squared_error: 9.9461 - val_loss: 6.8390 - val_mean_squared_error: 6.8390\n",
      "Epoch 35/200\n",
      "4923/4923 [==============================] - 0s 94us/step - loss: 9.9936 - mean_squared_error: 9.9936 - val_loss: 6.7210 - val_mean_squared_error: 6.7210\n",
      "Epoch 36/200\n",
      "4923/4923 [==============================] - 0s 95us/step - loss: 9.5837 - mean_squared_error: 9.5837 - val_loss: 6.6461 - val_mean_squared_error: 6.6461\n",
      "Epoch 37/200\n",
      "4923/4923 [==============================] - 0s 96us/step - loss: 9.3713 - mean_squared_error: 9.3713 - val_loss: 6.5914 - val_mean_squared_error: 6.5914\n",
      "Epoch 38/200\n",
      "4923/4923 [==============================] - 0s 96us/step - loss: 9.2758 - mean_squared_error: 9.2758 - val_loss: 6.5242 - val_mean_squared_error: 6.5242\n",
      "Epoch 39/200\n",
      "4923/4923 [==============================] - 0s 98us/step - loss: 9.0609 - mean_squared_error: 9.0609 - val_loss: 6.4948 - val_mean_squared_error: 6.4948\n",
      "Epoch 40/200\n",
      "4923/4923 [==============================] - 0s 93us/step - loss: 9.0443 - mean_squared_error: 9.0443 - val_loss: 6.4221 - val_mean_squared_error: 6.4221\n",
      "Epoch 41/200\n",
      "4923/4923 [==============================] - 0s 96us/step - loss: 8.8053 - mean_squared_error: 8.8053 - val_loss: 6.3493 - val_mean_squared_error: 6.3493\n",
      "Epoch 42/200\n",
      "4923/4923 [==============================] - 0s 96us/step - loss: 8.6969 - mean_squared_error: 8.6969 - val_loss: 6.2869 - val_mean_squared_error: 6.2869\n",
      "Epoch 43/200\n",
      "4923/4923 [==============================] - 0s 97us/step - loss: 8.7481 - mean_squared_error: 8.7481 - val_loss: 6.2373 - val_mean_squared_error: 6.2373\n",
      "Epoch 44/200\n",
      "4923/4923 [==============================] - 0s 96us/step - loss: 8.4632 - mean_squared_error: 8.4632 - val_loss: 6.2841 - val_mean_squared_error: 6.2841\n",
      "Epoch 45/200\n",
      "4923/4923 [==============================] - 0s 94us/step - loss: 8.4435 - mean_squared_error: 8.4435 - val_loss: 6.1386 - val_mean_squared_error: 6.1386\n",
      "Epoch 46/200\n",
      "4923/4923 [==============================] - 0s 97us/step - loss: 8.3178 - mean_squared_error: 8.3178 - val_loss: 6.0845 - val_mean_squared_error: 6.0845\n",
      "Epoch 47/200\n",
      "4923/4923 [==============================] - 0s 98us/step - loss: 8.3291 - mean_squared_error: 8.3291 - val_loss: 6.0882 - val_mean_squared_error: 6.0882\n",
      "Epoch 48/200\n",
      "4923/4923 [==============================] - 0s 98us/step - loss: 8.1533 - mean_squared_error: 8.1533 - val_loss: 6.0463 - val_mean_squared_error: 6.0463\n",
      "Epoch 49/200\n",
      "4923/4923 [==============================] - 0s 98us/step - loss: 7.9732 - mean_squared_error: 7.9732 - val_loss: 5.9639 - val_mean_squared_error: 5.9639\n",
      "Epoch 50/200\n",
      "4923/4923 [==============================] - 0s 98us/step - loss: 7.9780 - mean_squared_error: 7.9780 - val_loss: 5.9228 - val_mean_squared_error: 5.9228\n",
      "Epoch 51/200\n",
      "4923/4923 [==============================] - 0s 97us/step - loss: 7.7438 - mean_squared_error: 7.7438 - val_loss: 5.8762 - val_mean_squared_error: 5.8762\n",
      "Epoch 52/200\n",
      "4923/4923 [==============================] - 0s 98us/step - loss: 7.7488 - mean_squared_error: 7.7488 - val_loss: 5.8524 - val_mean_squared_error: 5.8524\n",
      "Epoch 53/200\n",
      "4923/4923 [==============================] - 0s 97us/step - loss: 7.5260 - mean_squared_error: 7.5260 - val_loss: 5.8073 - val_mean_squared_error: 5.8073\n",
      "Epoch 54/200\n",
      "4923/4923 [==============================] - 0s 98us/step - loss: 7.5307 - mean_squared_error: 7.5307 - val_loss: 5.7701 - val_mean_squared_error: 5.7701\n",
      "Epoch 55/200\n",
      "4923/4923 [==============================] - 0s 98us/step - loss: 7.4164 - mean_squared_error: 7.4164 - val_loss: 5.7389 - val_mean_squared_error: 5.7389\n",
      "Epoch 56/200\n",
      "4923/4923 [==============================] - 0s 99us/step - loss: 7.4466 - mean_squared_error: 7.4466 - val_loss: 5.7182 - val_mean_squared_error: 5.7182\n",
      "Epoch 57/200\n",
      "4923/4923 [==============================] - 0s 97us/step - loss: 7.2456 - mean_squared_error: 7.2456 - val_loss: 5.7003 - val_mean_squared_error: 5.7003\n",
      "Epoch 58/200\n",
      "4923/4923 [==============================] - 0s 98us/step - loss: 7.2923 - mean_squared_error: 7.2923 - val_loss: 5.6579 - val_mean_squared_error: 5.6579\n",
      "Epoch 59/200\n",
      "4923/4923 [==============================] - 0s 97us/step - loss: 7.1474 - mean_squared_error: 7.1474 - val_loss: 5.6395 - val_mean_squared_error: 5.6395\n",
      "Epoch 60/200\n",
      "4923/4923 [==============================] - 0s 97us/step - loss: 7.0741 - mean_squared_error: 7.0741 - val_loss: 5.6403 - val_mean_squared_error: 5.6403\n",
      "Epoch 61/200\n",
      "4923/4923 [==============================] - 0s 97us/step - loss: 7.0187 - mean_squared_error: 7.0187 - val_loss: 5.5772 - val_mean_squared_error: 5.5772\n",
      "Epoch 62/200\n",
      "4923/4923 [==============================] - 0s 97us/step - loss: 6.9497 - mean_squared_error: 6.9497 - val_loss: 5.5621 - val_mean_squared_error: 5.5621\n",
      "Epoch 63/200\n",
      "4923/4923 [==============================] - 0s 98us/step - loss: 6.7350 - mean_squared_error: 6.7350 - val_loss: 5.5433 - val_mean_squared_error: 5.5433\n",
      "Epoch 64/200\n",
      "4923/4923 [==============================] - 0s 99us/step - loss: 6.8225 - mean_squared_error: 6.8225 - val_loss: 5.4991 - val_mean_squared_error: 5.4991\n",
      "Epoch 65/200\n",
      "4923/4923 [==============================] - 0s 97us/step - loss: 6.7072 - mean_squared_error: 6.7072 - val_loss: 5.4875 - val_mean_squared_error: 5.4875\n",
      "Epoch 66/200\n",
      "4923/4923 [==============================] - 0s 98us/step - loss: 6.7982 - mean_squared_error: 6.7982 - val_loss: 5.4494 - val_mean_squared_error: 5.4494\n",
      "Epoch 67/200\n",
      "4923/4923 [==============================] - 0s 97us/step - loss: 6.5860 - mean_squared_error: 6.5860 - val_loss: 5.4337 - val_mean_squared_error: 5.4337\n",
      "Epoch 68/200\n",
      "4923/4923 [==============================] - 0s 95us/step - loss: 6.7082 - mean_squared_error: 6.7082 - val_loss: 5.4370 - val_mean_squared_error: 5.4370\n",
      "Epoch 69/200\n",
      "4923/4923 [==============================] - 0s 96us/step - loss: 6.6287 - mean_squared_error: 6.6287 - val_loss: 5.3860 - val_mean_squared_error: 5.3860\n",
      "Epoch 70/200\n",
      "4923/4923 [==============================] - 0s 97us/step - loss: 6.5311 - mean_squared_error: 6.5311 - val_loss: 5.3706 - val_mean_squared_error: 5.3706\n",
      "Epoch 71/200\n",
      "4923/4923 [==============================] - 0s 98us/step - loss: 6.4635 - mean_squared_error: 6.4635 - val_loss: 5.3881 - val_mean_squared_error: 5.3881\n",
      "Epoch 72/200\n",
      "4923/4923 [==============================] - 0s 97us/step - loss: 6.3878 - mean_squared_error: 6.3878 - val_loss: 5.3382 - val_mean_squared_error: 5.3382\n",
      "Epoch 73/200\n",
      "4923/4923 [==============================] - 0s 97us/step - loss: 6.3279 - mean_squared_error: 6.3279 - val_loss: 5.3185 - val_mean_squared_error: 5.3185\n",
      "Epoch 74/200\n",
      "4923/4923 [==============================] - 0s 96us/step - loss: 6.3433 - mean_squared_error: 6.3433 - val_loss: 5.3174 - val_mean_squared_error: 5.3174\n",
      "Epoch 75/200\n",
      "4923/4923 [==============================] - 0s 94us/step - loss: 6.2031 - mean_squared_error: 6.2031 - val_loss: 5.2767 - val_mean_squared_error: 5.2767\n",
      "Epoch 76/200\n",
      "4923/4923 [==============================] - 0s 96us/step - loss: 6.2463 - mean_squared_error: 6.2463 - val_loss: 5.2624 - val_mean_squared_error: 5.2624\n",
      "Epoch 77/200\n",
      "4923/4923 [==============================] - 0s 95us/step - loss: 6.0883 - mean_squared_error: 6.0883 - val_loss: 5.2776 - val_mean_squared_error: 5.2776\n",
      "Epoch 78/200\n",
      "4923/4923 [==============================] - 0s 94us/step - loss: 5.9902 - mean_squared_error: 5.9902 - val_loss: 5.2254 - val_mean_squared_error: 5.2254\n",
      "Epoch 79/200\n",
      "4923/4923 [==============================] - 0s 97us/step - loss: 6.1891 - mean_squared_error: 6.1891 - val_loss: 5.2353 - val_mean_squared_error: 5.2353\n",
      "Epoch 80/200\n",
      "4923/4923 [==============================] - 0s 96us/step - loss: 5.9437 - mean_squared_error: 5.9437 - val_loss: 5.1853 - val_mean_squared_error: 5.1853\n",
      "Epoch 81/200\n",
      "4923/4923 [==============================] - 0s 97us/step - loss: 5.9005 - mean_squared_error: 5.9005 - val_loss: 5.1923 - val_mean_squared_error: 5.1923\n",
      "Epoch 82/200\n",
      "4923/4923 [==============================] - 0s 96us/step - loss: 5.8587 - mean_squared_error: 5.8587 - val_loss: 5.1587 - val_mean_squared_error: 5.1587\n",
      "Epoch 83/200\n",
      "4923/4923 [==============================] - 0s 97us/step - loss: 5.8109 - mean_squared_error: 5.8109 - val_loss: 5.1733 - val_mean_squared_error: 5.1733\n",
      "Epoch 84/200\n",
      "4923/4923 [==============================] - 0s 97us/step - loss: 5.8284 - mean_squared_error: 5.8284 - val_loss: 5.1441 - val_mean_squared_error: 5.1441\n",
      "Epoch 85/200\n",
      "4923/4923 [==============================] - 0s 96us/step - loss: 5.7915 - mean_squared_error: 5.7915 - val_loss: 5.1325 - val_mean_squared_error: 5.1325\n",
      "Epoch 86/200\n",
      "4923/4923 [==============================] - 0s 95us/step - loss: 5.7228 - mean_squared_error: 5.7228 - val_loss: 5.1332 - val_mean_squared_error: 5.1332\n",
      "Epoch 87/200\n",
      "4923/4923 [==============================] - 0s 97us/step - loss: 5.6520 - mean_squared_error: 5.6520 - val_loss: 5.1285 - val_mean_squared_error: 5.1285\n",
      "Epoch 88/200\n",
      "4923/4923 [==============================] - 0s 97us/step - loss: 5.7549 - mean_squared_error: 5.7549 - val_loss: 5.0913 - val_mean_squared_error: 5.0913\n",
      "Epoch 89/200\n",
      "4923/4923 [==============================] - 0s 96us/step - loss: 5.5983 - mean_squared_error: 5.5983 - val_loss: 5.0939 - val_mean_squared_error: 5.0939\n",
      "Epoch 90/200\n",
      "4923/4923 [==============================] - 0s 98us/step - loss: 5.6649 - mean_squared_error: 5.6649 - val_loss: 5.0868 - val_mean_squared_error: 5.0868\n",
      "Epoch 91/200\n",
      "4923/4923 [==============================] - 0s 98us/step - loss: 5.6099 - mean_squared_error: 5.6099 - val_loss: 5.0712 - val_mean_squared_error: 5.0712\n",
      "Epoch 92/200\n",
      "4923/4923 [==============================] - 0s 98us/step - loss: 5.4713 - mean_squared_error: 5.4713 - val_loss: 5.0564 - val_mean_squared_error: 5.0564\n",
      "Epoch 93/200\n",
      "4923/4923 [==============================] - 0s 98us/step - loss: 5.4242 - mean_squared_error: 5.4242 - val_loss: 5.0808 - val_mean_squared_error: 5.0808\n",
      "Epoch 94/200\n",
      "4923/4923 [==============================] - 0s 98us/step - loss: 5.3927 - mean_squared_error: 5.3927 - val_loss: 5.0733 - val_mean_squared_error: 5.0733\n",
      "Epoch 95/200\n",
      "4923/4923 [==============================] - 0s 96us/step - loss: 5.4800 - mean_squared_error: 5.4800 - val_loss: 5.0442 - val_mean_squared_error: 5.0442\n",
      "Epoch 96/200\n",
      "4923/4923 [==============================] - 0s 95us/step - loss: 5.3722 - mean_squared_error: 5.3722 - val_loss: 5.0289 - val_mean_squared_error: 5.0289\n",
      "Epoch 97/200\n",
      "4923/4923 [==============================] - 0s 97us/step - loss: 5.3005 - mean_squared_error: 5.3005 - val_loss: 5.0341 - val_mean_squared_error: 5.0341\n",
      "Epoch 98/200\n"
     ]
    },
    {
     "name": "stdout",
     "output_type": "stream",
     "text": [
      "4923/4923 [==============================] - 0s 96us/step - loss: 5.2549 - mean_squared_error: 5.2549 - val_loss: 5.0204 - val_mean_squared_error: 5.0204\n",
      "Epoch 99/200\n",
      "4923/4923 [==============================] - 0s 98us/step - loss: 5.2464 - mean_squared_error: 5.2464 - val_loss: 5.1488 - val_mean_squared_error: 5.1488\n",
      "Epoch 100/200\n",
      "4923/4923 [==============================] - 0s 97us/step - loss: 5.1925 - mean_squared_error: 5.1925 - val_loss: 4.9961 - val_mean_squared_error: 4.9961\n",
      "Epoch 101/200\n",
      "4923/4923 [==============================] - 0s 95us/step - loss: 5.2611 - mean_squared_error: 5.2611 - val_loss: 4.9894 - val_mean_squared_error: 4.9894\n",
      "Epoch 102/200\n",
      "4923/4923 [==============================] - 0s 96us/step - loss: 5.1996 - mean_squared_error: 5.1996 - val_loss: 5.0340 - val_mean_squared_error: 5.0340\n",
      "Epoch 103/200\n",
      "4923/4923 [==============================] - 0s 95us/step - loss: 5.1531 - mean_squared_error: 5.1531 - val_loss: 4.9671 - val_mean_squared_error: 4.9671\n",
      "Epoch 104/200\n",
      "4923/4923 [==============================] - 0s 94us/step - loss: 5.1767 - mean_squared_error: 5.1767 - val_loss: 4.9618 - val_mean_squared_error: 4.9618\n",
      "Epoch 105/200\n",
      "4923/4923 [==============================] - 0s 93us/step - loss: 5.0527 - mean_squared_error: 5.0527 - val_loss: 4.9698 - val_mean_squared_error: 4.9698\n",
      "Epoch 106/200\n",
      "4923/4923 [==============================] - 0s 96us/step - loss: 4.9512 - mean_squared_error: 4.9512 - val_loss: 5.0002 - val_mean_squared_error: 5.0002\n",
      "Epoch 107/200\n",
      "4923/4923 [==============================] - 0s 96us/step - loss: 5.1016 - mean_squared_error: 5.1016 - val_loss: 4.9633 - val_mean_squared_error: 4.9633\n",
      "Epoch 108/200\n",
      "4923/4923 [==============================] - 0s 96us/step - loss: 5.0116 - mean_squared_error: 5.0116 - val_loss: 4.9624 - val_mean_squared_error: 4.9624\n",
      "Epoch 109/200\n",
      "4923/4923 [==============================] - 0s 98us/step - loss: 5.0520 - mean_squared_error: 5.0520 - val_loss: 4.9220 - val_mean_squared_error: 4.9220\n",
      "Epoch 110/200\n",
      "4923/4923 [==============================] - 0s 97us/step - loss: 4.8936 - mean_squared_error: 4.8936 - val_loss: 4.9305 - val_mean_squared_error: 4.9305\n",
      "Epoch 111/200\n",
      "4923/4923 [==============================] - 0s 97us/step - loss: 4.9382 - mean_squared_error: 4.9382 - val_loss: 4.9417 - val_mean_squared_error: 4.9417\n",
      "Epoch 112/200\n",
      "4923/4923 [==============================] - 0s 95us/step - loss: 4.9145 - mean_squared_error: 4.9145 - val_loss: 4.9131 - val_mean_squared_error: 4.9131\n",
      "Epoch 113/200\n",
      "4923/4923 [==============================] - 0s 96us/step - loss: 4.8740 - mean_squared_error: 4.8740 - val_loss: 4.8935 - val_mean_squared_error: 4.8935\n",
      "Epoch 114/200\n",
      "4923/4923 [==============================] - 0s 95us/step - loss: 4.8603 - mean_squared_error: 4.8603 - val_loss: 4.9133 - val_mean_squared_error: 4.9133\n",
      "Epoch 115/200\n",
      "4923/4923 [==============================] - 0s 97us/step - loss: 4.8264 - mean_squared_error: 4.8264 - val_loss: 4.8878 - val_mean_squared_error: 4.8878\n",
      "Epoch 116/200\n",
      "4923/4923 [==============================] - 0s 96us/step - loss: 4.8621 - mean_squared_error: 4.8621 - val_loss: 4.9224 - val_mean_squared_error: 4.9224\n",
      "Epoch 117/200\n",
      "4923/4923 [==============================] - 0s 95us/step - loss: 4.7317 - mean_squared_error: 4.7317 - val_loss: 4.9108 - val_mean_squared_error: 4.9108\n",
      "Epoch 118/200\n",
      "4923/4923 [==============================] - 0s 96us/step - loss: 4.6134 - mean_squared_error: 4.6134 - val_loss: 4.9126 - val_mean_squared_error: 4.9126\n",
      "Epoch 119/200\n",
      "4923/4923 [==============================] - 0s 96us/step - loss: 4.7163 - mean_squared_error: 4.7163 - val_loss: 4.8774 - val_mean_squared_error: 4.8774\n",
      "Epoch 120/200\n",
      "4923/4923 [==============================] - 0s 95us/step - loss: 4.6516 - mean_squared_error: 4.6516 - val_loss: 4.8642 - val_mean_squared_error: 4.8642\n",
      "Epoch 121/200\n",
      "4923/4923 [==============================] - 0s 96us/step - loss: 4.7735 - mean_squared_error: 4.7735 - val_loss: 4.8749 - val_mean_squared_error: 4.8749\n",
      "Epoch 122/200\n",
      "4923/4923 [==============================] - 0s 94us/step - loss: 4.6349 - mean_squared_error: 4.6349 - val_loss: 4.8950 - val_mean_squared_error: 4.8950\n",
      "Epoch 123/200\n",
      "4923/4923 [==============================] - 0s 96us/step - loss: 4.6768 - mean_squared_error: 4.6768 - val_loss: 4.8402 - val_mean_squared_error: 4.8402\n",
      "Epoch 124/200\n",
      "4923/4923 [==============================] - 0s 97us/step - loss: 4.5224 - mean_squared_error: 4.5224 - val_loss: 4.8442 - val_mean_squared_error: 4.8442\n",
      "Epoch 125/200\n",
      "4923/4923 [==============================] - 0s 96us/step - loss: 4.6183 - mean_squared_error: 4.6183 - val_loss: 4.8865 - val_mean_squared_error: 4.8865\n",
      "Epoch 126/200\n",
      "4923/4923 [==============================] - 0s 92us/step - loss: 4.5893 - mean_squared_error: 4.5893 - val_loss: 4.8491 - val_mean_squared_error: 4.8491\n",
      "Epoch 127/200\n",
      "4923/4923 [==============================] - 0s 97us/step - loss: 4.5409 - mean_squared_error: 4.5409 - val_loss: 4.8466 - val_mean_squared_error: 4.8466\n",
      "Epoch 128/200\n",
      "4923/4923 [==============================] - 0s 97us/step - loss: 4.3693 - mean_squared_error: 4.3693 - val_loss: 4.8835 - val_mean_squared_error: 4.8835\n",
      "Epoch 129/200\n",
      "4923/4923 [==============================] - 0s 96us/step - loss: 4.5225 - mean_squared_error: 4.5225 - val_loss: 4.8747 - val_mean_squared_error: 4.8747\n",
      "Epoch 130/200\n",
      "4923/4923 [==============================] - 0s 97us/step - loss: 4.5009 - mean_squared_error: 4.5009 - val_loss: 4.8403 - val_mean_squared_error: 4.8403\n",
      "Epoch 131/200\n",
      "4923/4923 [==============================] - 0s 96us/step - loss: 4.3878 - mean_squared_error: 4.3878 - val_loss: 4.8598 - val_mean_squared_error: 4.8598\n",
      "Epoch 132/200\n",
      "4923/4923 [==============================] - 0s 97us/step - loss: 4.4672 - mean_squared_error: 4.4672 - val_loss: 4.8335 - val_mean_squared_error: 4.8335\n",
      "Epoch 133/200\n",
      "4923/4923 [==============================] - 0s 96us/step - loss: 4.3069 - mean_squared_error: 4.3069 - val_loss: 4.8211 - val_mean_squared_error: 4.8211\n",
      "Epoch 134/200\n",
      "4923/4923 [==============================] - 0s 98us/step - loss: 4.3672 - mean_squared_error: 4.3672 - val_loss: 4.8708 - val_mean_squared_error: 4.8708\n",
      "Epoch 135/200\n",
      "4923/4923 [==============================] - 0s 97us/step - loss: 4.3657 - mean_squared_error: 4.3657 - val_loss: 4.8098 - val_mean_squared_error: 4.8098\n",
      "Epoch 136/200\n",
      "4923/4923 [==============================] - 0s 96us/step - loss: 4.4109 - mean_squared_error: 4.4109 - val_loss: 4.8359 - val_mean_squared_error: 4.8359\n",
      "Epoch 137/200\n",
      "4923/4923 [==============================] - 0s 98us/step - loss: 4.2855 - mean_squared_error: 4.2855 - val_loss: 4.8203 - val_mean_squared_error: 4.8203\n",
      "Epoch 138/200\n",
      "4923/4923 [==============================] - 0s 94us/step - loss: 4.3269 - mean_squared_error: 4.3269 - val_loss: 4.8064 - val_mean_squared_error: 4.8064\n",
      "Epoch 139/200\n",
      "4923/4923 [==============================] - 0s 96us/step - loss: 4.1882 - mean_squared_error: 4.1882 - val_loss: 4.7981 - val_mean_squared_error: 4.7981\n",
      "Epoch 140/200\n",
      "4923/4923 [==============================] - 0s 97us/step - loss: 4.4209 - mean_squared_error: 4.4209 - val_loss: 4.8588 - val_mean_squared_error: 4.8588\n",
      "Epoch 141/200\n",
      "4923/4923 [==============================] - 0s 99us/step - loss: 4.3809 - mean_squared_error: 4.3809 - val_loss: 4.7730 - val_mean_squared_error: 4.7730\n",
      "Epoch 142/200\n",
      "4923/4923 [==============================] - 0s 99us/step - loss: 4.2882 - mean_squared_error: 4.2882 - val_loss: 4.7794 - val_mean_squared_error: 4.7794\n",
      "Epoch 143/200\n",
      "4923/4923 [==============================] - 0s 96us/step - loss: 4.2689 - mean_squared_error: 4.2689 - val_loss: 4.9672 - val_mean_squared_error: 4.9672\n",
      "Epoch 144/200\n",
      "4923/4923 [==============================] - 0s 96us/step - loss: 4.2242 - mean_squared_error: 4.2242 - val_loss: 4.7991 - val_mean_squared_error: 4.7991\n",
      "Epoch 145/200\n",
      "4923/4923 [==============================] - 0s 96us/step - loss: 4.1937 - mean_squared_error: 4.1937 - val_loss: 4.7808 - val_mean_squared_error: 4.7808\n",
      "Epoch 146/200\n",
      "4923/4923 [==============================] - 0s 98us/step - loss: 4.2545 - mean_squared_error: 4.2545 - val_loss: 4.8133 - val_mean_squared_error: 4.8133\n"
     ]
    },
    {
     "name": "stdout",
     "output_type": "stream",
     "text": [
      "Epoch 147/200\n",
      "4923/4923 [==============================] - 0s 98us/step - loss: 4.2504 - mean_squared_error: 4.2504 - val_loss: 4.7714 - val_mean_squared_error: 4.7714\n",
      "Epoch 148/200\n",
      "4923/4923 [==============================] - 0s 96us/step - loss: 4.1122 - mean_squared_error: 4.1122 - val_loss: 4.8154 - val_mean_squared_error: 4.8154\n",
      "Epoch 149/200\n",
      "4923/4923 [==============================] - 0s 98us/step - loss: 4.2028 - mean_squared_error: 4.2028 - val_loss: 4.8025 - val_mean_squared_error: 4.8025\n",
      "Epoch 150/200\n",
      "4923/4923 [==============================] - 0s 97us/step - loss: 4.1800 - mean_squared_error: 4.1800 - val_loss: 4.7710 - val_mean_squared_error: 4.7710\n",
      "Epoch 151/200\n",
      "4923/4923 [==============================] - 0s 97us/step - loss: 4.1690 - mean_squared_error: 4.1690 - val_loss: 4.7603 - val_mean_squared_error: 4.7603\n",
      "Epoch 152/200\n",
      "4923/4923 [==============================] - 0s 97us/step - loss: 4.0337 - mean_squared_error: 4.0337 - val_loss: 4.9131 - val_mean_squared_error: 4.9131\n",
      "Epoch 153/200\n",
      "4923/4923 [==============================] - 0s 98us/step - loss: 4.0547 - mean_squared_error: 4.0547 - val_loss: 4.8322 - val_mean_squared_error: 4.8322\n",
      "Epoch 154/200\n",
      "4923/4923 [==============================] - 0s 95us/step - loss: 4.0859 - mean_squared_error: 4.0859 - val_loss: 4.7846 - val_mean_squared_error: 4.7846\n",
      "Epoch 155/200\n",
      "4923/4923 [==============================] - 0s 98us/step - loss: 4.0335 - mean_squared_error: 4.0335 - val_loss: 4.7580 - val_mean_squared_error: 4.7580\n",
      "Epoch 156/200\n",
      "4923/4923 [==============================] - 0s 97us/step - loss: 4.0667 - mean_squared_error: 4.0667 - val_loss: 4.7609 - val_mean_squared_error: 4.7609\n",
      "Epoch 157/200\n",
      "4923/4923 [==============================] - 0s 97us/step - loss: 4.1470 - mean_squared_error: 4.1470 - val_loss: 4.7618 - val_mean_squared_error: 4.7618\n",
      "Epoch 158/200\n",
      "4923/4923 [==============================] - 0s 97us/step - loss: 4.1695 - mean_squared_error: 4.1695 - val_loss: 4.8951 - val_mean_squared_error: 4.8951\n",
      "Epoch 159/200\n",
      "4923/4923 [==============================] - 0s 96us/step - loss: 4.0234 - mean_squared_error: 4.0234 - val_loss: 4.7414 - val_mean_squared_error: 4.7414\n",
      "Epoch 160/200\n",
      "4923/4923 [==============================] - 0s 97us/step - loss: 3.9728 - mean_squared_error: 3.9728 - val_loss: 4.7352 - val_mean_squared_error: 4.7352\n",
      "Epoch 161/200\n",
      "4923/4923 [==============================] - 0s 97us/step - loss: 4.0300 - mean_squared_error: 4.0300 - val_loss: 4.7559 - val_mean_squared_error: 4.7559\n",
      "Epoch 162/200\n",
      "4923/4923 [==============================] - 0s 94us/step - loss: 3.8054 - mean_squared_error: 3.8054 - val_loss: 4.7494 - val_mean_squared_error: 4.7494\n",
      "Epoch 163/200\n",
      "4923/4923 [==============================] - 0s 96us/step - loss: 3.9319 - mean_squared_error: 3.9319 - val_loss: 4.7307 - val_mean_squared_error: 4.7307\n",
      "Epoch 164/200\n",
      "4923/4923 [==============================] - 0s 97us/step - loss: 3.9155 - mean_squared_error: 3.9155 - val_loss: 4.7781 - val_mean_squared_error: 4.7781\n",
      "Epoch 165/200\n",
      "4923/4923 [==============================] - 0s 98us/step - loss: 3.9142 - mean_squared_error: 3.9142 - val_loss: 4.7486 - val_mean_squared_error: 4.7486\n",
      "Epoch 166/200\n",
      "4923/4923 [==============================] - 0s 97us/step - loss: 3.8592 - mean_squared_error: 3.8592 - val_loss: 4.7493 - val_mean_squared_error: 4.7493\n",
      "Epoch 167/200\n",
      "4923/4923 [==============================] - 0s 97us/step - loss: 3.8475 - mean_squared_error: 3.8475 - val_loss: 4.8270 - val_mean_squared_error: 4.8270\n",
      "Epoch 168/200\n",
      "4923/4923 [==============================] - 0s 97us/step - loss: 3.8536 - mean_squared_error: 3.8536 - val_loss: 4.7221 - val_mean_squared_error: 4.7221\n",
      "Epoch 169/200\n",
      "4923/4923 [==============================] - 0s 98us/step - loss: 3.8671 - mean_squared_error: 3.8671 - val_loss: 4.7988 - val_mean_squared_error: 4.7988\n",
      "Epoch 170/200\n",
      "4923/4923 [==============================] - 0s 97us/step - loss: 3.8012 - mean_squared_error: 3.8012 - val_loss: 4.7155 - val_mean_squared_error: 4.7155\n",
      "Epoch 171/200\n",
      "4923/4923 [==============================] - 0s 98us/step - loss: 3.8890 - mean_squared_error: 3.8890 - val_loss: 4.8639 - val_mean_squared_error: 4.8639\n",
      "Epoch 172/200\n",
      "4923/4923 [==============================] - 0s 97us/step - loss: 3.8133 - mean_squared_error: 3.8133 - val_loss: 4.7750 - val_mean_squared_error: 4.7750\n",
      "Epoch 173/200\n",
      "4923/4923 [==============================] - 0s 96us/step - loss: 3.7732 - mean_squared_error: 3.7732 - val_loss: 4.8264 - val_mean_squared_error: 4.8264\n",
      "Epoch 174/200\n",
      "4923/4923 [==============================] - 0s 95us/step - loss: 3.8941 - mean_squared_error: 3.8941 - val_loss: 4.7210 - val_mean_squared_error: 4.7210\n",
      "Epoch 175/200\n",
      "4923/4923 [==============================] - 0s 95us/step - loss: 3.7554 - mean_squared_error: 3.7554 - val_loss: 4.8844 - val_mean_squared_error: 4.8844\n",
      "Epoch 176/200\n",
      "4923/4923 [==============================] - 0s 96us/step - loss: 3.8176 - mean_squared_error: 3.8176 - val_loss: 4.7341 - val_mean_squared_error: 4.7341\n",
      "Epoch 177/200\n",
      "4923/4923 [==============================] - 0s 99us/step - loss: 3.8244 - mean_squared_error: 3.8244 - val_loss: 4.7150 - val_mean_squared_error: 4.7150\n",
      "Epoch 178/200\n",
      "4923/4923 [==============================] - 0s 98us/step - loss: 3.8017 - mean_squared_error: 3.8017 - val_loss: 4.7623 - val_mean_squared_error: 4.7623\n",
      "Epoch 179/200\n",
      "4923/4923 [==============================] - 0s 98us/step - loss: 3.8127 - mean_squared_error: 3.8127 - val_loss: 4.8612 - val_mean_squared_error: 4.8612\n",
      "Epoch 180/200\n",
      "4923/4923 [==============================] - 0s 97us/step - loss: 3.8243 - mean_squared_error: 3.8243 - val_loss: 4.7343 - val_mean_squared_error: 4.7343\n"
     ]
    },
    {
     "data": {
      "text/plain": [
       "<keras.callbacks.History at 0x7f38486e75f8>"
      ]
     },
     "execution_count": 63,
     "metadata": {},
     "output_type": "execute_result"
    }
   ],
   "source": [
    "model.fit(features_train, Y_train, epochs=200, batch_size=512, callbacks=[estop] ,validation_data=(features_valid,Y_valid))"
   ]
  },
  {
   "cell_type": "code",
   "execution_count": 65,
   "metadata": {},
   "outputs": [
    {
     "data": {
      "image/png": "[encoded data removed]",
      "text/plain": [
       "<Figure size 432x288 with 1 Axes>"
      ]
     },
     "metadata": {},
     "output_type": "display_data"
    }
   ],
   "source": [
    "# get predictions\n",
    "predictions = model.predict(features_valid)\n",
    "\n",
    "# extract validation images\n",
    "_, valid_images, _, _ = train_test_split(data.image_name,y,test_size=0.3, random_state=42)\n",
    "\n",
    "# get random validation image index\n",
    "idx = rng.choice(range(len(valid_images)))\n",
    "\n",
    "# get the corresponding image name\n",
    "image_name = valid_images.iloc[idx]\n",
    "\n",
    "# get the actual targets\n",
    "left_eye_center_x = data.loc[data.image_name == image_name, 'left_eye_center_x']\n",
    "left_eye_center_y = data.loc[data.image_name == image_name, 'left_eye_center_y']\n",
    "right_eye_center_x = data.loc[data.image_name == image_name, 'right_eye_center_x']\n",
    "right_eye_center_y = data.loc[data.image_name == image_name, 'right_eye_center_y']\n",
    "\n",
    "# get the corresponding predictions\n",
    "predicted_left_eye_center_x, predicted_left_eye_center_y, predicted_right_eye_center_x, predicted_right_eye_center_y = predictions[idx]\n",
    "\n",
    "# read the image\n",
    "img = plt.imread('../datasets/facial_keypoint_identification/images/' + image_name)\n",
    "\n",
    "# plot empty figure\n",
    "fig = plt.figure()\n",
    "\n",
    "# plot image\n",
    "plt.imshow(img,cmap='gray')\n",
    "\n",
    "# plot actual targets\n",
    "plt.scatter(left_eye_center_x, left_eye_center_y, marker='x', s=50, c='r')\n",
    "plt.scatter(right_eye_center_x, right_eye_center_y, marker='x', s=50, c='r')\n",
    "\n",
    "# plot predictions\n",
    "plt.scatter(predicted_left_eye_center_x, predicted_left_eye_center_y, marker='o', s=50, c='w')\n",
    "plt.scatter(predicted_right_eye_center_x, predicted_right_eye_center_y, marker='o', s=50, c='w')\n",
    "\n",
    "# show the figure\n",
    "plt.show()"
   ]
  },
  {
   "cell_type": "code",
   "execution_count": null,
   "metadata": {
    "collapsed": true
   },
   "outputs": [],
   "source": []
  }
 ],
 "metadata": {
  "kernelspec": {
   "display_name": "Python 3",
   "language": "python",
   "name": "python3"
  },
  "language_info": {
   "codemirror_mode": {
    "name": "ipython",
    "version": 3
   },
   "file_extension": ".py",
   "mimetype": "text/x-python",
   "name": "python",
   "nbconvert_exporter": "python",
   "pygments_lexer": "ipython3",
   "version": "3.6.3"
  }
 },
 "nbformat": 4,
 "nbformat_minor": 2
}
